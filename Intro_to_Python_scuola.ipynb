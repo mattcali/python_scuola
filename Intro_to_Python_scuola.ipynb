{
 "cells": [
  {
   "cell_type": "markdown",
   "metadata": {},
   "source": [
    "## Jupyter & Python\n"
   ]
  },
  {
   "cell_type": "markdown",
   "metadata": {},
   "source": [
    "**Author:**\n",
    "* Matteo Califano"
   ]
  },
  {
   "cell_type": "markdown",
   "metadata": {},
   "source": [
    "Jupyter Notebook allows you to write, document and run your code in one place. For data science work it presents a very convenient tool for quickly prototyping your scripts and algorithms.\n",
    "\n",
    "Also it includes so many plug-ins for example you can create presentation slides on the fly, you can export the notebook to a python script file, to HTML, to pdf, to LaTeX, etc. Its a great tool.\n",
    "\n",
    "By the end of this lecture you will be able to:\n",
    "* Be familiar with **Jupyter notebooks**\n",
    "* Define **variables** and  differentiate between global and local variables. \n",
    "* Identify and use different object **types** in python.\n",
    "* Use some of the python's default functions and define your own **functions**.\n",
    "* Manipulate **lists**\n",
    "* Introduction to **numpy** and **matplotlib** libraries\n",
    "\n",
    "\n",
    "For a brief introduction to Markdown see [this](https://github.com/adam-p/markdown-here/wiki/Markdown-Cheatsheet)\n",
    "\n",
    "For a list of Python Tutorials see [this](https://wiki.python.org/moin/BeginnersGuide/Programmers)\n",
    "\n",
    "As you proceed in your coding journey, you should pay great attention to coding style. The [Google python style guide](https://github.com/google/styleguide/blob/gh-pages/pyguide.md) a good place to start.\n"
   ]
  },
  {
   "cell_type": "markdown",
   "metadata": {},
   "source": [
    "## Python"
   ]
  },
  {
   "cell_type": "markdown",
   "metadata": {},
   "source": [
    "Ensure you are using version 3 of Python"
   ]
  },
  {
   "cell_type": "code",
   "execution_count": 13,
   "metadata": {},
   "outputs": [
    {
     "name": "stdout",
     "output_type": "stream",
     "text": [
      "Python 3.9.18\n"
     ]
    }
   ],
   "source": [
    "!python --version\n"
   ]
  },
  {
   "cell_type": "markdown",
   "metadata": {},
   "source": [
    "## Welcome to Jupyter notebooks\n",
    "\n",
    "Jupyter notebooks are an easy way to write Python code. Here you don't need to write your entire code at once, but you can run it one part at a time (or line-by-line if you want). This is helpful for debugging since you can make sure each step works before you go to the next step of your code.\n",
    "\n",
    "Your code is run in a __code cell__, which looks like this:"
   ]
  },
  {
   "cell_type": "code",
   "execution_count": null,
   "metadata": {},
   "outputs": [],
   "source": []
  },
  {
   "cell_type": "markdown",
   "metadata": {},
   "source": [
    "You can type as many lines of code as you want in a code cell (press `<enter>` to go to a new line). Once you are done, press `<shift-enter>` (or click the __Run__ button above). The final line of your code will be printed as an output (if there is something to print). \n",
    "\n",
    "Python is not a *compiled* language, so there is no step where you need to compile your code before you run it. \n",
    "\n",
    "## Comments\n",
    "\n",
    "It is good practice to write comments in your code. All text beginning with `#` is commented out. Comments can even follow your code on the same line.\n",
    "\n",
    "```py\n",
    "# This is a comment\n",
    "\n",
    "x = 5 # This is another comment\n",
    "```"
   ]
  },
  {
   "cell_type": "markdown",
   "metadata": {},
   "source": [
    "##  Variables"
   ]
  },
  {
   "cell_type": "markdown",
   "metadata": {},
   "source": [
    "When programming,  generally one wants to implement algorithms that simplify cumbersome  calculations. \n",
    "Let us consider the following analytic expression:\n",
    "\n",
    "\\begin{equation*}\n",
    "x^2 + 1\n",
    "\\end{equation*}\n",
    "\n",
    "\n",
    "In this expression, $x$ corresponds to a variable, whereas $1$ is a fixed number. To define a variable in a python program we use the following syntax:\n",
    "\n",
    "```py\n",
    "x = 5\n",
    "```\n"
   ]
  },
  {
   "cell_type": "code",
   "execution_count": null,
   "metadata": {},
   "outputs": [],
   "source": [
    "x = 5"
   ]
  },
  {
   "cell_type": "markdown",
   "metadata": {},
   "source": [
    "This simply means that every time in the code we use <code> x </code>, \n",
    "the code automatically replaces it by its numerical value. For instance, going back to our example analytic example, if we evaluate \n",
    "```py\n",
    "x**2 + 1\n",
    "```\n",
    "we will get as output <code> 26 </code>. Try this out by yourself"
   ]
  },
  {
   "cell_type": "code",
   "execution_count": null,
   "metadata": {},
   "outputs": [],
   "source": [
    "# Type 'x**2 + 1' below and push <shift-enter> to evaluate\n",
    "\n"
   ]
  },
  {
   "cell_type": "markdown",
   "metadata": {},
   "source": [
    "Variables defined in one cell (such as `x` above) are defined in all cells. This is a **global variable**. Every time we use `x` *in any cell in the same notebook*, python automatically assigns its numeric value. Below, we will see examples of **local variables** where this is no longer true."
   ]
  },
  {
   "cell_type": "code",
   "execution_count": null,
   "metadata": {},
   "outputs": [],
   "source": [
    "# Evaluate x in this cells and convince yourself that it is a global variable\n"
   ]
  },
  {
   "cell_type": "markdown",
   "metadata": {},
   "source": [
    "# Types"
   ]
  },
  {
   "cell_type": "markdown",
   "metadata": {},
   "source": [
    "In mathematics, a variable can represent different types of objects, e.g., natural numbers, real numbers, vectors, matrices, etc. \n",
    "It is the same in programing. \n",
    "The objects have defined **types**. There are many types in programing, and you can even define your own, but the most important ones you need to know for the moment are (without any particular order):\n",
    "\n",
    "* Boolean point number ` (bool) ` :  either `True` or `False` (note capitalization is important!)\n",
    "* Integer ` (int) `:  a number; 1, 4, 6, 23, also -34\n",
    "* Floating Point Number ` (float) `: a decimal number; 2.4, 34.2325, -54.234967\n",
    "* String ` (str) `: a sequence of characters; \"hello\", \"I learn python!\", \"I am a string\"\n",
    "\n",
    "Python is a dynamically-typed language. Python tries to guess the type of a variable when you assign it a value, and you can change the type of a variable at any time. \n",
    "\n",
    "Let us explore these examples in practice."
   ]
  },
  {
   "cell_type": "markdown",
   "metadata": {},
   "source": [
    "### Boolean variables"
   ]
  },
  {
   "cell_type": "code",
   "execution_count": null,
   "metadata": {},
   "outputs": [
    {
     "name": "stdout",
     "output_type": "stream",
     "text": [
      "type of a: <class 'bool'>\n"
     ]
    }
   ],
   "source": [
    "a = True\n",
    "print('type of a:',type(a))"
   ]
  },
  {
   "cell_type": "markdown",
   "metadata": {},
   "source": [
    "### Integer and float variables"
   ]
  },
  {
   "cell_type": "code",
   "execution_count": null,
   "metadata": {},
   "outputs": [
    {
     "name": "stdout",
     "output_type": "stream",
     "text": [
      "type of x: <class 'int'>\n",
      "type of y: <class 'float'>\n"
     ]
    }
   ],
   "source": [
    "x = 5\n",
    "print(\"type of x:\", type(x))\n",
    "y = 5.0\n",
    "print(\"type of y:\", type(y))"
   ]
  },
  {
   "cell_type": "markdown",
   "metadata": {},
   "source": [
    "### String variables"
   ]
  },
  {
   "cell_type": "code",
   "execution_count": null,
   "metadata": {},
   "outputs": [
    {
     "name": "stdout",
     "output_type": "stream",
     "text": [
      " type of r:   <class 'str'>\n"
     ]
    }
   ],
   "source": [
    "r = 'hello world'\n",
    "print(\" type of r:  \", type(r))"
   ]
  },
  {
   "cell_type": "markdown",
   "metadata": {},
   "source": [
    "Different variable types have different kinds of operations, for example:\n",
    "\n",
    "* Integers and floats can be added `1 + 2` or multiplied  `1 * 2`.\n",
    "\n",
    "* Strings can be concatenated using the `+` operator, e.g., `\"hello\" + \"world\"`. You can also do string comparison using  `\"hello\" == \"hello\"`.\n",
    "\n",
    "You can read more about them [here](https://docs.python.org/3/library/stdtypes.html#boolean-operations-and-or-not), [here](https://docs.python.org/3/library/stdtypes.html#numeric-types-int-float-complex) and [here](https://docs.python.org/3/library/stdtypes.html#text-sequence-type-str). But let us see an specific example of how to concatenate two strings."
   ]
  },
  {
   "cell_type": "code",
   "execution_count": null,
   "metadata": {},
   "outputs": [
    {
     "name": "stdout",
     "output_type": "stream",
     "text": [
      "helloworld\n"
     ]
    }
   ],
   "source": [
    "string1 = \"hello\"\n",
    "string2 = 'world'\n",
    "string3 = string1 + string2\n",
    "print(string3)"
   ]
  },
  {
   "cell_type": "markdown",
   "metadata": {},
   "source": [
    "String comparison returns output of boolean type:"
   ]
  },
  {
   "cell_type": "code",
   "execution_count": null,
   "metadata": {},
   "outputs": [
    {
     "name": "stdout",
     "output_type": "stream",
     "text": [
      "False\n",
      "<class 'bool'>\n"
     ]
    }
   ],
   "source": [
    "print(string1 == string2)\n",
    "print(type(string1 == string2))"
   ]
  },
  {
   "cell_type": "markdown",
   "metadata": {},
   "source": [
    "Strings are just sequences of characters. You can extract one specific character by __indexing__ using the following notation: for example,\n",
    "\n",
    "```py\n",
    "string1[0]\n",
    "```\n",
    "\n",
    "returns the first character of `string1`, i.e., the letter `h`. *Note that Python starts counting at zero.*\n",
    "\n",
    "You can extract a substring by __slicing__. The notation is `string1[i:j]` will return characters from `string1` from character `i` up to *but not including* character `j`. For example, the slice `string3[3:8]` returns the substring `\"lowor\"`. \n",
    "The notation `string1[i:j:k]` will include only every `k`th character. So, `string3[3:8:2]` will return `\"lwr\"` since every other character is skipped.\n",
    "\n",
    "You can also count *backwards* from the end of the string by setting the index to be `-1`.\n",
    "\n",
    "Try the following examples and feel free to change them to see how it works."
   ]
  },
  {
   "cell_type": "code",
   "execution_count": null,
   "metadata": {},
   "outputs": [
    {
     "name": "stdout",
     "output_type": "stream",
     "text": [
      "o\n",
      "d\n",
      "lod\n",
      "dlrowolleh\n"
     ]
    }
   ],
   "source": [
    "print(string3[6]) # The 7th element of the string\n",
    "print(string3[-1]) # The last element of the string\n",
    "print(string3[3::3]) # The 4th element through the end of the string, keeping only every 3rd character\n",
    "print(string3[::-1]) # Entire string backwards."
   ]
  },
  {
   "cell_type": "markdown",
   "metadata": {},
   "source": [
    "A variable of a given type  can be turn into a variable of a different type. For instance, a float can be turn into an integer using the python's default function `int()`. An integer can be turn into an string using the function `str()`. In a similar way, you can ask for the integer value of the division of two numbers in two ways, for instance doing the usual division and the using the `int()` function on the final result. You can also use the command  `a//b`. Let see"
   ]
  },
  {
   "cell_type": "code",
   "execution_count": null,
   "metadata": {},
   "outputs": [
    {
     "name": "stdout",
     "output_type": "stream",
     "text": [
      "type of x: <class 'float'>\n",
      "9\n",
      "<class 'str'>\n",
      "4\n",
      "4\n"
     ]
    }
   ],
   "source": [
    "x = 5 # this is an integer\n",
    "x = float(x) # this is a float using float() function\n",
    "print(\"type of x:\", type(x))\n",
    "print(int(9.1)) #use int() function\n",
    "print(type(str(1))) #use str() function\n",
    "print(int(9/2))\n",
    "print(9//2) #ask for the integer part of a division"
   ]
  },
  {
   "cell_type": "markdown",
   "metadata": {},
   "source": [
    "Operations can also change the type of a variable, for instance, the division of two integers numbers  give in general float numbers"
   ]
  },
  {
   "cell_type": "code",
   "execution_count": null,
   "metadata": {},
   "outputs": [
    {
     "name": "stdout",
     "output_type": "stream",
     "text": [
      "x = 5 is of type : <class 'int'>\n",
      "y = x/3 is of type : <class 'float'>\n"
     ]
    }
   ],
   "source": [
    "x = 5\n",
    "print(\"x = 5 is of type :\", type(x))\n",
    "y = x/3\n",
    "print(\"y = x/3 is of type :\", type(y))"
   ]
  },
  {
   "cell_type": "markdown",
   "metadata": {},
   "source": [
    "There are is a set of mathematical operations which are applicable to the different variable **types**, \"+, -, *, /, **, //, %, <, >, <=, >=, ==, !=\". The order of operations can be seen [here](https://docs.python.org/3/reference/expressions.html#operator-precedence). But you can always override the priority with round brackets."
   ]
  },
  {
   "cell_type": "code",
   "execution_count": 5,
   "metadata": {},
   "outputs": [
    {
     "name": "stdout",
     "output_type": "stream",
     "text": [
      "6\n",
      "48\n",
      "90\n"
     ]
    }
   ],
   "source": [
    "print(3 + 3)\n",
    "print(3 + 3 * 15)\n",
    "print((3 + 3) * 15)"
   ]
  },
  {
   "cell_type": "markdown",
   "metadata": {},
   "source": [
    "To finalize this section, let us point that all of the variables that we have defined above are Global variables, that means that we can use them in different cells in the notebook without having to define them again. For instance we can ` print ` the value of ` x ` defined above."
   ]
  },
  {
   "cell_type": "code",
   "execution_count": null,
   "metadata": {},
   "outputs": [
    {
     "data": {
      "text/plain": [
       "5"
      ]
     },
     "metadata": {},
     "output_type": "display_data"
    }
   ],
   "source": [
    "x"
   ]
  },
  {
   "cell_type": "markdown",
   "metadata": {},
   "source": [
    "Evaluate some of the previous defined variables to convince yourself that all variables defined so far are global."
   ]
  },
  {
   "cell_type": "code",
   "execution_count": null,
   "metadata": {},
   "outputs": [],
   "source": []
  },
  {
   "cell_type": "markdown",
   "metadata": {},
   "source": [
    "# Functions"
   ]
  },
  {
   "cell_type": "markdown",
   "metadata": {},
   "source": [
    "Going back to our mathematical expression\n",
    "```py\n",
    "x**2 + 1\n",
    "```\n",
    " we now want to evaluate it at an specific value, for instance `x = 3`. The result of this evaluation will be `10` "
   ]
  },
  {
   "cell_type": "code",
   "execution_count": null,
   "metadata": {},
   "outputs": [
    {
     "data": {
      "text/plain": [
       "10"
      ]
     },
     "metadata": {},
     "output_type": "display_data"
    }
   ],
   "source": [
    "x = 3\n",
    "x**2 + 1"
   ]
  },
  {
   "cell_type": "markdown",
   "metadata": {},
   "source": [
    "We  could do this also for another input number, for example `x = 7`."
   ]
  },
  {
   "cell_type": "code",
   "execution_count": null,
   "metadata": {},
   "outputs": [
    {
     "data": {
      "text/plain": [
       "50"
      ]
     },
     "metadata": {},
     "output_type": "display_data"
    }
   ],
   "source": [
    "x = 7\n",
    "x**2 + 1"
   ]
  },
  {
   "cell_type": "markdown",
   "metadata": {},
   "source": [
    "or `x = 50`"
   ]
  },
  {
   "cell_type": "code",
   "execution_count": null,
   "metadata": {},
   "outputs": [
    {
     "data": {
      "text/plain": [
       "2501"
      ]
     },
     "metadata": {},
     "output_type": "display_data"
    }
   ],
   "source": [
    "x = 50\n",
    "x**2 + 1"
   ]
  },
  {
   "cell_type": "markdown",
   "metadata": {},
   "source": [
    "You get the idea.. You can save your time by abstracting \n",
    "\n",
    "```py\n",
    "x**2 + 1\n",
    "```\n",
    "\n",
    "into a function which can be reused any time we desire to. The syntax for defining a function in python is the following: \n",
    "\n",
    "```py\n",
    "def function_name(x1):\n",
    "    # ...\n",
    "```\n",
    " Here\n",
    "\n",
    "`x1` is a function parameter (independent variable). \n",
    "\n",
    "It is  recommended that you use functions names that accurately describe the function purpose.\n",
    "\n",
    "You can have multiple function parameters.\n",
    "```py\n",
    "def f(x1, x2):\n",
    "    # ...\n",
    "```\n",
    "\n",
    "The function parameters ` x ` can be of any type (including functions themselves).\n",
    "\n",
    "A function generally takes an input and returns an output. Let us imagine we want to write a function that adds two parameters and squares them afterwards. You could write a code of the following form"
   ]
  },
  {
   "cell_type": "code",
   "execution_count": null,
   "metadata": {},
   "outputs": [],
   "source": [
    "def sum_and_square(x1, x2):\n",
    "    power = 2\n",
    "    s = x1 + x2\n",
    "    s_sq = s**power\n",
    "    return s_sq"
   ]
  },
  {
   "cell_type": "markdown",
   "metadata": {},
   "source": [
    "We can now use this function with specific input variables as follows"
   ]
  },
  {
   "cell_type": "code",
   "execution_count": null,
   "metadata": {},
   "outputs": [
    {
     "data": {
      "text/plain": [
       "25"
      ]
     },
     "metadata": {},
     "output_type": "display_data"
    }
   ],
   "source": [
    "x = sum_and_square(2, 3)\n",
    "x"
   ]
  },
  {
   "cell_type": "markdown",
   "metadata": {},
   "source": [
    "Let us take this example function to discuss __local variables__. As you can see, inside the function we have defined the variable  ` power = 2 `, that means that  inside the function, anywhere you encounter the variable ` power `, the program automatically replace its value `2`. However, outside the function the variable ` power ` is not defined, and if you try to call it, you will get an error message. ` power ` was written as a **local** variable. "
   ]
  },
  {
   "cell_type": "code",
   "execution_count": null,
   "metadata": {},
   "outputs": [
    {
     "ename": "NameError",
     "evalue": "name 'power' is not defined",
     "output_type": "error",
     "traceback": [
      "\u001b[1;31m---------------------------------------------------------------------------\u001b[0m\n",
      "\u001b[1;31mNameError\u001b[0m                                 Traceback (most recent call last)\n",
      "Input \u001b[1;32mIn [19]\u001b[0m, in \u001b[0;36m<cell line: 1>\u001b[1;34m()\u001b[0m\n",
      "\u001b[1;32m----> 1\u001b[0m \u001b[43mpower\u001b[49m\n",
      "\n",
      "\u001b[1;31mNameError\u001b[0m: name 'power' is not defined"
     ]
    }
   ],
   "source": [
    "power"
   ]
  },
  {
   "cell_type": "markdown",
   "metadata": {},
   "source": [
    "Python syntax for error printed is very informative, as we can see, it tells that the variable <code>power</code> has not been defined."
   ]
  },
  {
   "cell_type": "markdown",
   "metadata": {},
   "source": [
    "Returning to our  function. As you can see, the job of `return`  is to store the result of the operation in the function,  in the variable `x`. A function doesn't need to have a `return` statement, for example, when you work with **classes** (you will learn about classes later). \n",
    "\n",
    "Keep in mind, that the argument's types are carried into the function, so you get an error, when you try use undefined operations  between different type objects. For example, the  sum of a  string and a number is not defined, and the error would be the following "
   ]
  },
  {
   "cell_type": "code",
   "execution_count": null,
   "metadata": {},
   "outputs": [
    {
     "ename": "TypeError",
     "evalue": "can only concatenate str (not \"int\") to str",
     "output_type": "error",
     "traceback": [
      "\u001b[1;31m---------------------------------------------------------------------------\u001b[0m\n",
      "\u001b[1;31mTypeError\u001b[0m                                 Traceback (most recent call last)\n",
      "Input \u001b[1;32mIn [20]\u001b[0m, in \u001b[0;36m<cell line: 1>\u001b[1;34m()\u001b[0m\n",
      "\u001b[1;32m----> 1\u001b[0m \u001b[43msum_and_square\u001b[49m\u001b[43m(\u001b[49m\u001b[38;5;124;43m\"\u001b[39;49m\u001b[38;5;124;43mhello\u001b[39;49m\u001b[38;5;124;43m\"\u001b[39;49m\u001b[43m,\u001b[49m\u001b[43m \u001b[49m\u001b[38;5;241;43m2\u001b[39;49m\u001b[43m)\u001b[49m\n",
      "\n",
      "Input \u001b[1;32mIn [17]\u001b[0m, in \u001b[0;36msum_and_square\u001b[1;34m(x1, x2)\u001b[0m\n",
      "\u001b[0;32m      1\u001b[0m \u001b[38;5;28;01mdef\u001b[39;00m \u001b[38;5;21msum_and_square\u001b[39m(x1, x2):\n",
      "\u001b[0;32m      2\u001b[0m     power \u001b[38;5;241m=\u001b[39m \u001b[38;5;241m2\u001b[39m\n",
      "\u001b[1;32m----> 3\u001b[0m     s \u001b[38;5;241m=\u001b[39m \u001b[43mx1\u001b[49m\u001b[43m \u001b[49m\u001b[38;5;241;43m+\u001b[39;49m\u001b[43m \u001b[49m\u001b[43mx2\u001b[49m\n",
      "\u001b[0;32m      4\u001b[0m     s_sq \u001b[38;5;241m=\u001b[39m s\u001b[38;5;241m*\u001b[39m\u001b[38;5;241m*\u001b[39mpower\n",
      "\u001b[0;32m      5\u001b[0m     \u001b[38;5;28;01mreturn\u001b[39;00m s_sq\n",
      "\n",
      "\u001b[1;31mTypeError\u001b[0m: can only concatenate str (not \"int\") to str"
     ]
    }
   ],
   "source": [
    "sum_and_square(\"hello\", 2)"
   ]
  },
  {
   "cell_type": "markdown",
   "metadata": {},
   "source": [
    "Let us finally comment on a useful feature when defining functions. You can pre-assign a default value for the independent variables. For instance, let us imagine we want to  define a function of two parameters ` a, b `, but we want to specify a default value for `b=1`, so that when using the function, it assumes that `b =1`, but we could change the value of `b` if desired.  The syntax for this will be \n",
    "```py\n",
    "def fun(a,b=1):\n",
    "    # ...\n",
    "```\n",
    "Here we refer to `b` as a named variable. Let us see how this works in the following example"
   ]
  },
  {
   "cell_type": "code",
   "execution_count": null,
   "metadata": {},
   "outputs": [],
   "source": [
    "def fun(a,b=1):\n",
    "    return a + b"
   ]
  },
  {
   "cell_type": "code",
   "execution_count": null,
   "metadata": {},
   "outputs": [
    {
     "name": "stdout",
     "output_type": "stream",
     "text": [
      "4\n",
      "5\n"
     ]
    }
   ],
   "source": [
    "print(fun(3)) # use the default value for variable b\n",
    "print(fun(3,b=2)) # Change the input value for b"
   ]
  },
  {
   "cell_type": "markdown",
   "metadata": {},
   "source": [
    "Notice that the order of the arguments matters, unnamed variables always go first, and named variables go afterwards. For instance, if you want to invert the order, you will get an error message"
   ]
  },
  {
   "cell_type": "code",
   "execution_count": null,
   "metadata": {},
   "outputs": [
    {
     "ename": "SyntaxError",
     "evalue": "positional argument follows keyword argument (2027764043.py, line 1)",
     "output_type": "error",
     "traceback": [
      "\u001b[1;36m  Input \u001b[1;32mIn [23]\u001b[1;36m\u001b[0m\n",
      "\u001b[1;33m    fun(b=1,3)\u001b[0m\n",
      "\u001b[1;37m             ^\u001b[0m\n",
      "\u001b[1;31mSyntaxError\u001b[0m\u001b[1;31m:\u001b[0m positional argument follows keyword argument\n"
     ]
    }
   ],
   "source": [
    "fun(b=1,3)"
   ]
  },
  {
   "cell_type": "markdown",
   "metadata": {},
   "source": [
    "Defining function with default key-values for different parameters  is useful when dealing functions with a big number of  arguments, since it allows us to input the arguments without an specific order. For example"
   ]
  },
  {
   "cell_type": "code",
   "execution_count": null,
   "metadata": {},
   "outputs": [],
   "source": [
    "def func2(a=1,b=3,c=19):\n",
    "    return (a-b)/c"
   ]
  },
  {
   "cell_type": "code",
   "execution_count": null,
   "metadata": {},
   "outputs": [
    {
     "data": {
      "text/plain": [
       "True"
      ]
     },
     "metadata": {},
     "output_type": "display_data"
    }
   ],
   "source": [
    "func2(b=3,a=13,c=19) == func2(b=3,c=19,a=13) "
   ]
  },
  {
   "cell_type": "markdown",
   "metadata": {},
   "source": [
    "### Exercise 1\n",
    "To get some practice with functions, let us imagine a freely falling particle whose coordinate position (x, y) is described by the relations \n",
    "$$x(t) = 0.5 t$$\n",
    "$$y(t) = -9.81 t^2 + 0.23 t + 100.34$$ \n",
    "Write two functions: the first takes `t` as an argument and returns $x(t)$, and the second takes `t` as an argument and returns $y(t)$.\n",
    "Being a good programmer means also to verify the functionality of your code, so run some tests. "
   ]
  },
  {
   "cell_type": "code",
   "execution_count": null,
   "metadata": {},
   "outputs": [],
   "source": [
    "# Write your solution in this cell\n"
   ]
  },
  {
   "cell_type": "markdown",
   "metadata": {},
   "source": [
    "Functions have additional features like optional parameters, default parameters, typing, etc., some of them are self explanatory, some of them are not. We encourage you to learn more about functions [here](https://www.w3schools.com/python/python_functions.asp). "
   ]
  },
  {
   "cell_type": "markdown",
   "metadata": {},
   "source": [
    "# Lists and Tuples"
   ]
  },
  {
   "cell_type": "markdown",
   "metadata": {},
   "source": [
    "Lists and tuples are data structures, which as the name explicitly suggests, they are utilized to collect data in one single variable.  Let's define a List, to make it more clear.\n",
    "\n",
    "### List\n",
    "\n",
    "To define a list, we use the following syntax\n",
    "```py\n",
    "my_list = [3, 4, 8, 2, 5, 3, 7]\n",
    "```\n",
    "Lists can be slices and indexed similarly to strings. For example:\n",
    "* Access a list element by indexing\n",
    "```py\n",
    "my_list[2]\n",
    "```\n",
    "returns `8`. (Recall Python starts counting from zero, so the the first element is indexed by `0`, the second element by `1`, etc.) You can also index the last (second to last, etc.) element by using the index `-1` (`-2`, etc.):\n",
    "```py\n",
    "my_list[-1]\n",
    "```\n",
    "returns `7`.\n",
    "* Slice the list by defining the range of interest in the list \n",
    "```py\n",
    "slice = my_list[1:4]\n",
    "```\n",
    "this will give as output ` [4, 8, 2] `. Note the last index of the slice is *not included*, so `my_list[1:4]` does not include `my_list[4]`.\n",
    "\n",
    "* Lists are **mutable** objects, this means that we can change one or more elements of the list \n",
    "```py\n",
    "my_list[3] = \"string\"\n",
    "```\n",
    "Now, we would have added a string as the fourth element. This is just to show that the elements of a list do not have to be of the same type.\n",
    "* Append to a list by using\n",
    "```py\n",
    "my_list.append(10)\n",
    "```\n",
    "or you can simply do \n",
    "```\n",
    "my_list += [10]\n",
    "```\n",
    "* Concatenate two lists \n",
    "\n",
    "```\n",
    "my_list2 = [1, 4, 'r', (3,4)]\n",
    "my_list3 = [5.6, 4, 'c', [1,2,3]]\n",
    "my_list4 = my_list2 + my_list3\n",
    "```\n",
    "\n",
    "* Determine the length of your list\n",
    "```\n",
    "len(my_list4)\n",
    "```\n",
    "producing as output `8`.\n",
    "\n",
    "### Exercise 2 \n",
    "Go ahead and try all these things out!"
   ]
  },
  {
   "cell_type": "code",
   "execution_count": null,
   "metadata": {},
   "outputs": [],
   "source": [
    "# Here you have space to play with lists. \n"
   ]
  },
  {
   "cell_type": "markdown",
   "metadata": {},
   "source": [
    "### Tuples\n",
    "\n",
    "Tuples are in general similar objects as Lists, but they are defined with round brackets instead of squared ones.\n",
    "```py\n",
    "my_list = [3, 4, 8, 2, 5, 3, 7] # This is a list\n",
    "my_tuple = (3, 4, 8, 2, 5, 3, 7) # This is a tuple\n",
    "```\n",
    "Accessing different elements of a tuple can be done in the same way than for lists. However, tuples are **not mutable** which means that one cannot change or add more elements to the tuple. \n",
    "\n",
    "### Exercise 3\n",
    "Go ahead and try to use the operations for list in tuples and convince yourself of their main differences "
   ]
  },
  {
   "cell_type": "code",
   "execution_count": null,
   "metadata": {},
   "outputs": [],
   "source": [
    "# Here you have space to play with tuples\n"
   ]
  },
  {
   "cell_type": "markdown",
   "metadata": {},
   "source": [
    "Lists and tuples can be change one into another, and as usual,  python has already default functions for doing that, for instance to go from a list into a tuple we use the function <code> tuple(my_list) </code>, and viceversa, <code> list(my_tuple) </code>.\n",
    "    \n",
    "Convince yourself of this with the following two objects\n",
    "    \n",
    "```py\n",
    "my_list = [3, 4, 8, 2, 5, 3, 7] # This is a list\n",
    "my_tuple = (3, 4, 8, 2, 5, 3, 7) # This is a tuple\n",
    "```    \n"
   ]
  },
  {
   "cell_type": "code",
   "execution_count": null,
   "metadata": {},
   "outputs": [],
   "source": []
  },
  {
   "cell_type": "markdown",
   "metadata": {},
   "source": [
    "Let us finally  point out some useful differences between lists and tuples in the following image, they will be useful on your  future programing \n",
    "\n"
   ]
  },
  {
   "cell_type": "code",
   "execution_count": null,
   "metadata": {},
   "outputs": [
    {
     "data": {
      "image/png": "[encoded data removed]",
      "text/plain": [
       "<IPython.core.display.Image object>"
      ]
     },
     "metadata": {},
     "output_type": "display_data"
    }
   ],
   "source": [
    "from IPython.display import Image\n",
    "Image(\"Figures/image_1.png\")"
   ]
  },
  {
   "cell_type": "markdown",
   "metadata": {},
   "source": [
    "# Numpy"
   ]
  },
  {
   "cell_type": "markdown",
   "metadata": {},
   "source": [
    "Here we introduce the `numpy` library, which is a collection of functions that are fast, efficient, and very useful for scientific computing. \n",
    "To use `numpy`, first we need to `import` it. \n",
    "\n",
    "```py\n",
    "import numpy as np\n",
    "```\n",
    "\n",
    "Typically, you put your import statements at the very top of your code (in the first code cell) because you need to import a package or module before you can use it in the rest of your code.\n",
    "\n",
    "You may have noticed that the import statement ends with `as np`. This is called aliasing. This gives `numpy` the nickname `np`, so that every time we call the library we write `np` instead of `numpy`. \n",
    "For instance, to call <code>numpy</code> functions we will always use `np.function()` instead of `numpy.function()` which is just more convenient but doesn't change the nature of the execution. \n",
    "\n",
    "As an example, let us use numpy's <code>sqrt()</code> function."
   ]
  },
  {
   "cell_type": "code",
   "execution_count": null,
   "metadata": {},
   "outputs": [
    {
     "name": "stdout",
     "output_type": "stream",
     "text": [
      "1.4142135623730951\n"
     ]
    }
   ],
   "source": [
    "import numpy as np\n",
    "\n",
    "x = 2\n",
    "y = np.sqrt(x)\n",
    "print(y)"
   ]
  },
  {
   "cell_type": "markdown",
   "metadata": {},
   "source": [
    "Additional **numpy** functions include \n",
    "1. exponential function: `np.exp(x)`\n",
    "2. logarithmic function: `np.log(x)`\n",
    "3. trigonometric function: `np.sin(x)`, `np.cos(x)`, `np.tan(x)`\n",
    "\n",
    "Constants like $\\pi$ and the Euler number $e$ are also accessible by using the syntax `np.pi` and `np.e` respectively. \n",
    "\n",
    "A full documentation can be seen [here](https://numpy.org/devdocs/index.html).\n",
    "\n",
    "### Exercise 4\n",
    "Write a function which takes as arguments the coordinates `x` and `y` and returns the polar coordinates `r` and `theta`. Recall the change of variables from Euclidean to polar coordinates is \n",
    "$$\n",
    "r = \\sqrt{x^2+y^2}\\\\\n",
    "\\theta = \\arctan({y/x}).\n",
    "$$\n",
    "\n"
   ]
  },
  {
   "cell_type": "code",
   "execution_count": null,
   "metadata": {},
   "outputs": [],
   "source": [
    "# write your function here\n"
   ]
  },
  {
   "cell_type": "markdown",
   "metadata": {},
   "source": [
    "# Numpy arrays"
   ]
  },
  {
   "cell_type": "markdown",
   "metadata": {},
   "source": [
    "Numpy arrays are used for storing multiple elements, similar to a `list` or `tuple`, and you can think of them as vectors or matrices of numbers. Numpy arrays have a lot of built-in functionality that makes them very useful for scientific computing, and they work hand-in-hand with other libraries like `matplotlib` (used for making plots and figures) and `scipy` (used for scientific calculations). \n",
    "Compared to lists, numpy arrays are also fast for evaluation and simplify the code you have to write (see [here](https://numpy.org/doc/stable/user/whatisnumpy.html)).\n",
    "\n",
    "To convert a list into a <code>numpy</code> array we use the following syntax:\n",
    "```py\n",
    "a_numpy_array = np.array([2, 3, 4])\n",
    "```\n",
    "### Exercise 5\n",
    "Convert the previous generated list into <code>numpy </code> arrays and calculate the sum of it using [this](https://numpy.org/doc/stable/reference/generated/numpy.ndarray.sum.html?highlight=sum) function.\n",
    "\n",
    "In addition, convince yourself that the indexing, slicing, computing the length of the array, etc., works in a similar way that for lists.\n",
    "However, if you want to add append an element to an array, you do not use the command `a_numpy_array.append([value])`. Instead, you do `np.append(a_numpy_array, value)`. Add the element `10` to the array `a_numpy_array` above. \n",
    "\n",
    "Note: changing the size of an numpy array is generally not recommended, since this is a very expensive operation. If you often need to append or remove elements, consider using a list instead.\n"
   ]
  },
  {
   "cell_type": "code",
   "execution_count": null,
   "metadata": {},
   "outputs": [],
   "source": [
    "# here goes your result. "
   ]
  },
  {
   "cell_type": "markdown",
   "metadata": {},
   "source": [
    "Next, let us create  a new numpy array named `t`, that looks like this  \n",
    "```py\n",
    "array([0. , 0.1, 0.2, 0.3, 0.4, 0.5, 0.6, 0.7, 0.8, 0.9, 1. , 1.1, 1.2,\n",
    "       1.3, 1.4, 1.5, 1.6, 1.7, 1.8, 1.9, 2. , 2.1, 2.2, 2.3, 2.4, 2.5,\n",
    "       2.6, 2.7, 2.8, 2.9, 3. , 3.1, 3.2, 3.3, 3.4, 3.5, 3.6, 3.7, 3.8,\n",
    "       3.9, 4. , 4.1, 4.2, 4.3, 4.4, 4.5, 4.6, 4.7, 4.8, 4.9, 5. , 5.1,\n",
    "       5.2, 5.3, 5.4, 5.5, 5.6, 5.7, 5.8, 5.9, 6. , 6.1, 6.2, 6.3, 6.4,\n",
    "       6.5, 6.6, 6.7, 6.8, 6.9, 7. , 7.1, 7.2, 7.3, 7.4, 7.5, 7.6, 7.7,\n",
    "       7.8, 7.9, 8. , 8.1, 8.2, 8.3, 8.4, 8.5, 8.6, 8.7, 8.8, 8.9, 9. ,\n",
    "       9.1, 9.2, 9.3, 9.4, 9.5, 9.6, 9.7, 9.8, 9.9, 10.0])\n",
    "```\n",
    "\n",
    "We have two options for this task:\n",
    "1. Use [np.linspace](https://numpy.org/doc/stable/reference/generated/numpy.linspace.html) to create a numpy array from **start** to **stop** with **steps**. An example of this is:\n",
    "```py\n",
    "t = np.linspace(0, 10, 101)\n",
    "```\n",
    "2. Use [np.arange](https://numpy.org/doc/stable/reference/generated/numpy.arange.html) to create a numpy array with a fixed step size. An example of this is:\n",
    "```py\n",
    "t = np.arange(0, 10.1, 0.1)\n",
    "```\n"
   ]
  },
  {
   "cell_type": "code",
   "execution_count": null,
   "metadata": {},
   "outputs": [],
   "source": [
    "# write them explicitly here\n"
   ]
  },
  {
   "cell_type": "markdown",
   "metadata": {},
   "source": [
    "### Exercise 6\n",
    "Recall Exercise 1? We created the functions ` x(t), y(t) `. In this exercise  we want to compute the values for the coordinates positions at every single elements of the array ` t ` above, we can simply   insert the array into the function. The function will be applied element wise onto that array.\n",
    "For example, your functions on exercise 1 have the structure: \n",
    "\n",
    "```py\n",
    "def x(t):\n",
    "    #....\n",
    "x_t = x(t)\n",
    "```\n",
    "the resulting evaluation  `x_t ` will be \n",
    "    \n",
    "```py\n",
    "array([ 1.003400e+02,  1.002649e+02,  9.999360e+01,  9.952610e+01,\n",
    "        9.886240e+01,  9.800250e+01,  9.694640e+01,  9.569410e+01,\n",
    "        9.424560e+01,  9.260090e+01,  9.076000e+01,  8.872290e+01,\n",
    "        8.648960e+01,  8.406010e+01,  8.143440e+01,  7.861250e+01,\n",
    "        7.559440e+01,  7.238010e+01,  6.896960e+01,  6.536290e+01,\n",
    "        6.156000e+01,  5.756090e+01,  5.336560e+01,  4.897410e+01,\n",
    "        4.438640e+01,  3.960250e+01,  3.462240e+01,  2.944610e+01,\n",
    "        2.407360e+01,  1.850490e+01,  1.274000e+01,  6.778900e+00,\n",
    "        6.216000e-01, -5.731900e+00, -1.228160e+01, -1.902750e+01,\n",
    "       -2.596960e+01, -3.310790e+01, -4.044240e+01, -4.797310e+01,\n",
    "       -5.570000e+01, -6.362310e+01, -7.174240e+01, -8.005790e+01,\n",
    "       -8.856960e+01, -9.727750e+01, -1.061816e+02, -1.152819e+02,\n",
    "       -1.245784e+02, -1.340711e+02, -1.437600e+02, -1.536451e+02,\n",
    "       -1.637264e+02, -1.740039e+02, -1.844776e+02, -1.951475e+02,\n",
    "       -2.060136e+02, -2.170759e+02, -2.283344e+02, -2.397891e+02,\n",
    "       -2.514400e+02, -2.632871e+02, -2.753304e+02, -2.875699e+02,\n",
    "       -3.000056e+02, -3.126375e+02, -3.254656e+02, -3.384899e+02,\n",
    "       -3.517104e+02, -3.651271e+02, -3.787400e+02, -3.925491e+02,\n",
    "       -4.065544e+02, -4.207559e+02, -4.351536e+02, -4.497475e+02,\n",
    "       -4.645376e+02, -4.795239e+02, -4.947064e+02, -5.100851e+02,\n",
    "       -5.256600e+02, -5.414311e+02, -5.573984e+02, -5.735619e+02,\n",
    "       -5.899216e+02, -6.064775e+02, -6.232296e+02, -6.401779e+02,\n",
    "       -6.573224e+02, -6.746631e+02, -6.922000e+02, -7.099331e+02,\n",
    "       -7.278624e+02, -7.459879e+02, -7.643096e+02, -7.828275e+02,\n",
    "       -8.015416e+02, -8.204519e+02, -8.395584e+02, -8.588611e+02,\n",
    "       -8.783600e+02])\n",
    "```\n",
    "and similar for ` y(t) ` . Write a code that evaluates ` x(t) ` and ` y(t) ` for the <code> t</code> array and store them into the variables `x_t`, `y_t`. \n",
    "In addition, try to do the same evaluation but using <code>t</code> as a list rather than a <code>numpy </code>array. "
   ]
  },
  {
   "cell_type": "code",
   "execution_count": null,
   "metadata": {},
   "outputs": [],
   "source": [
    "#Write your code here"
   ]
  },
  {
   "cell_type": "markdown",
   "metadata": {},
   "source": [
    "Numpy also allows you to easily do element-wise operations, if the arrays are of equal length. This feature is called [broadcasting](https://numpy.org/doc/stable/user/basics.broadcasting.html)."
   ]
  },
  {
   "cell_type": "code",
   "execution_count": null,
   "metadata": {},
   "outputs": [
    {
     "name": "stdout",
     "output_type": "stream",
     "text": [
      "adding two arrays of the same size: [0.         0.33333333 0.66666667 1.         1.33333333 1.66666667\n",
      " 2.         2.33333333 2.66666667 3.        ]\n",
      "\n",
      "adding two list [0.0, 0.2222222222222222, 0.4444444444444444, 0.6666666666666666, 0.8888888888888888, 1.1111111111111112, 1.3333333333333333, 1.5555555555555554, 1.7777777777777777, 2.0, 0.0, 0.1111111111111111, 0.2222222222222222, 0.3333333333333333, 0.4444444444444444, 0.5555555555555556, 0.6666666666666666, 0.7777777777777777, 0.8888888888888888, 1.0]\n"
     ]
    }
   ],
   "source": [
    "y = np.linspace(0, 1, 10)\n",
    "x = np.linspace(0, 2, 10)\n",
    "print(\"adding two arrays of the same size:\", x+y)\n",
    "\n",
    "# let's compare this operation with list\n",
    "x_list = list(x)\n",
    "y_list = list(y)\n",
    "print()\n",
    "print(\"adding two list\", x_list+y_list)"
   ]
  },
  {
   "cell_type": "markdown",
   "metadata": {},
   "source": [
    "As you can see, python list do not add element-wise, instead they just concatenate. So you need to be careful, you can't just replace python lists with numpy arrays. "
   ]
  },
  {
   "cell_type": "markdown",
   "metadata": {},
   "source": [
    "### Exercise 7\n",
    "\n",
    "Use the function defined in **Exercise 4** to convert the arrays `x_t` and `y_t` to polar coordinates. Store your results into `x_p` and `y_p`."
   ]
  },
  {
   "cell_type": "code",
   "execution_count": null,
   "metadata": {},
   "outputs": [],
   "source": [
    "# convert the coordinates here\n"
   ]
  },
  {
   "cell_type": "markdown",
   "metadata": {},
   "source": [
    "# Plotting using matplotlib"
   ]
  },
  {
   "cell_type": "markdown",
   "metadata": {},
   "source": [
    "Here we introduce the `matplotlib` library which is used to make scientific figures. First, we need to import the library using \n",
    "\n",
    "```py\n",
    "import matplotlib.pyplot as plt\n",
    "```\n",
    "Just by looking at the import statement, you already know that every function of this library will be executed with\n",
    "```py\n",
    "plt.function()\n",
    "```\n",
    "This is in particular useful if you have a large codebase and you don't want to mix up functions while coding. \n",
    "\n",
    "Now, back to plotting. You can simply plot two numpy arrays or lists against each other (they must have the same length) by using\n",
    "```py\n",
    "plt.plot(x_axis_array, y_axis_array)\n",
    "``` \n",
    "In the next codeblock, you see an example of a plot."
   ]
  },
  {
   "cell_type": "code",
   "execution_count": null,
   "metadata": {},
   "outputs": [
    {
     "data": {
      "text/plain": [
       "[<matplotlib.lines.Line2D at 0x170ffe25580>]"
      ]
     },
     "metadata": {},
     "output_type": "display_data"
    },
    {
     "data": {
      "image/png": "[encoded data removed]",
      "text/plain": [
       "<Figure size 432x288 with 1 Axes>"
      ]
     },
     "metadata": {},
     "output_type": "display_data"
    }
   ],
   "source": [
    "import matplotlib.pyplot as plt\n",
    "\n",
    "x = [1, 2, 3, 4, 5]\n",
    "y = [1, 4, 9, 16, 25]\n",
    "\n",
    "plt.plot(x, y)"
   ]
  },
  {
   "cell_type": "markdown",
   "metadata": {},
   "source": [
    "You can see, that the graph is kind of edgy. This is due to the fact, that matplotlib is drawing a straight line between every two points. If you add more points, the line will get smoother. If you want to plot only the points, you can use the scatter plot function as follows\n",
    "```\n",
    "plt.scatter(x,y)\n",
    "```\n",
    "### Exercise 8\n",
    "Convince yourself that this give you a scatter plot. \n",
    "\n",
    "You can include the points and the line in the same plot by using \n",
    "```\n",
    "plt.plot(x,y)\n",
    "plt.scatter(x,y)\n",
    "```\n"
   ]
  },
  {
   "cell_type": "code",
   "execution_count": null,
   "metadata": {},
   "outputs": [],
   "source": [
    "# convincing is done here"
   ]
  },
  {
   "cell_type": "markdown",
   "metadata": {},
   "source": [
    "### Exercise 9\n",
    "Make also a plot of the polar coordinates using results from Exercise 7. Make two plots:\n",
    "* Radial plot: $t$ on the x-axis, $r(t)$ on the y-axis\n",
    "* Angle plot: $t$ on the x-axis, $\\theta(t)$ on the y-axis.\n",
    "\n",
    "Further information on plotting with `matplotlib` can be found [here](https://matplotlib.org/stable/tutorials/introductory/quick_start.html). "
   ]
  },
  {
   "cell_type": "code",
   "execution_count": null,
   "metadata": {},
   "outputs": [],
   "source": [
    "# Code for making your radial plot here"
   ]
  },
  {
   "cell_type": "code",
   "execution_count": null,
   "metadata": {},
   "outputs": [],
   "source": [
    "# Code for making the angle plot here"
   ]
  },
  {
   "cell_type": "markdown",
   "metadata": {},
   "source": [
    "### Example: Making a plot with all the bells and whistles\n",
    "\n",
    "Let us finish the lecture with the following example.\n",
    "We want to make a log-log plot the function $f(x) = 1/x$ against the values of $x$ from $10^{-7}$ to $100$.\n",
    "\n",
    "First, we want to create a numpy array, which contains the values of $x$ from $10^{-7}$ to $100$. For this, I use [np.logspace](https://numpy.org/doc/stable/reference/generated/numpy.logspace.html) which is a function that creates a numpy array with logarithmic steps."
   ]
  },
  {
   "cell_type": "code",
   "execution_count": null,
   "metadata": {},
   "outputs": [],
   "source": [
    "import numpy as np\n",
    "\n",
    "x = np.logspace(-7, 3, 1000) # Going from 10^-7 to 10^3"
   ]
  },
  {
   "cell_type": "markdown",
   "metadata": {},
   "source": [
    "Then, we create a function which returns the value of $f(x) = 1/x$."
   ]
  },
  {
   "cell_type": "code",
   "execution_count": null,
   "metadata": {},
   "outputs": [],
   "source": [
    "def f(x):\n",
    "    return 1/x"
   ]
  },
  {
   "cell_type": "markdown",
   "metadata": {},
   "source": [
    "The last step of the calculation is to calculate the values of $f(x)$ for every value of $x$."
   ]
  },
  {
   "cell_type": "code",
   "execution_count": null,
   "metadata": {},
   "outputs": [],
   "source": [
    "f_x = f(x)"
   ]
  },
  {
   "cell_type": "markdown",
   "metadata": {},
   "source": [
    "Finally, we plot the values of $f(x)$ against the values of $x$."
   ]
  },
  {
   "cell_type": "code",
   "execution_count": null,
   "metadata": {},
   "outputs": [
    {
     "data": {
      "image/png": "[encoded data removed]",
      "text/plain": [
       "<Figure size 432x288 with 1 Axes>"
      ]
     },
     "metadata": {},
     "output_type": "display_data"
    }
   ],
   "source": [
    "import matplotlib.pyplot as plt\n",
    "\n",
    "plt.plot(x, f_x, label=r'$f(x)=1/x$') # LaTeX support for graph labels :)\n",
    "plt.xlabel(\"x\")\n",
    "plt.ylabel(\"f(x)\")\n",
    "plt.legend()\n",
    "plt.show()"
   ]
  },
  {
   "cell_type": "markdown",
   "metadata": {},
   "source": [
    "As  can be seen, the graph looks horrible. This is due to the fact that we use a linear scale for plotting. A better scale would be a logarithmic scale. Logarithmic plots can be created using the `plt.loglog()` function"
   ]
  },
  {
   "cell_type": "code",
   "execution_count": null,
   "metadata": {},
   "outputs": [
    {
     "data": {
      "image/png": "[encoded data removed]",
      "text/plain": [
       "<Figure size 432x288 with 1 Axes>"
      ]
     },
     "metadata": {},
     "output_type": "display_data"
    }
   ],
   "source": [
    "plt.loglog(x, f_x, label=r'$f(x)=x^{-1}$', color=\"green\") # LaTeX support for graph labels :)\n",
    "plt.xlabel(\"x\")\n",
    "plt.ylabel(\"f(x)\")\n",
    "plt.legend()\n",
    "plt.show()"
   ]
  },
  {
   "cell_type": "markdown",
   "metadata": {},
   "source": [
    "One could have alternatively used the <code>plt.xscale()</code> function to change the x-axis scales, and similar for the y-axis. We can also make a dashed line too."
   ]
  },
  {
   "cell_type": "code",
   "execution_count": null,
   "metadata": {},
   "outputs": [
    {
     "data": {
      "image/png": "[encoded data removed]",
      "text/plain": [
       "<Figure size 432x288 with 1 Axes>"
      ]
     },
     "metadata": {},
     "output_type": "display_data"
    }
   ],
   "source": [
    "plt.plot(x, f_x, label=r'$f(x)=x^{-1}$', color=\"green\", linestyle='--') # LaTeX support for graph labels :)\n",
    "plt.xlabel(\"x\")\n",
    "plt.ylabel(\"f(x)\")\n",
    "plt.xscale('log')\n",
    "plt.yscale('log')\n",
    "plt.legend()\n",
    "plt.show()"
   ]
  },
  {
   "cell_type": "markdown",
   "metadata": {},
   "source": [
    "You can plot multiple lines on the same figure."
   ]
  },
  {
   "cell_type": "code",
   "execution_count": null,
   "metadata": {},
   "outputs": [
    {
     "data": {
      "image/png": "[encoded data removed]",
      "text/plain": [
       "<Figure size 432x288 with 1 Axes>"
      ]
     },
     "metadata": {},
     "output_type": "display_data"
    }
   ],
   "source": [
    "def g(x):\n",
    "    return x**2\n",
    "\n",
    "g_x = g(x)\n",
    "\n",
    "plt.plot(x, f_x, label=r'$f(x)=x^{-1}$', color=\"green\", linestyle='--')\n",
    "plt.plot(x, g_x, label=r'$g(x)=x^{2}$', color=\"red\", linestyle='-.') \n",
    "\n",
    "plt.xlabel(\"x\")\n",
    "plt.ylabel(\"f(x) and g(x)\")\n",
    "plt.xscale('log')\n",
    "plt.yscale('log')\n",
    "plt.legend()\n",
    "plt.show()"
   ]
  }
 ],
 "metadata": {
  "anaconda-cloud": {},
  "kernelspec": {
   "display_name": "Python 3",
   "language": "python",
   "name": "python3"
  },
  "language_info": {
   "codemirror_mode": {
    "name": "ipython",
    "version": 3
   },
   "file_extension": ".py",
   "mimetype": "text/x-python",
   "name": "python",
   "nbconvert_exporter": "python",
   "pygments_lexer": "ipython3",
   "version": "3.9.18"
  }
 },
 "nbformat": 4,
 "nbformat_minor": 2
}
